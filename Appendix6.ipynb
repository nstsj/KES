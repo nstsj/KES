{
  "nbformat": 4,
  "nbformat_minor": 0,
  "metadata": {
    "colab": {
      "name": "Appendix6.ipynb",
      "provenance": [],
      "collapsed_sections": [],
      "authorship_tag": "ABX9TyN/BqjU7qMBVxZoeDbSwBUl",
      "include_colab_link": true
    },
    "kernelspec": {
      "name": "python3",
      "display_name": "Python 3"
    }
  },
  "cells": [
    {
      "cell_type": "markdown",
      "metadata": {
        "id": "view-in-github",
        "colab_type": "text"
      },
      "source": [
        "<a href=\"https://colab.research.google.com/github/nstsj/Master_thesis_additional/blob/master/Appendix6.ipynb\" target=\"_parent\"><img src=\"https://colab.research.google.com/assets/colab-badge.svg\" alt=\"Open In Colab\"/></a>"
      ]
    },
    {
      "cell_type": "markdown",
      "metadata": {
        "id": "gBNy1M3B_lqz",
        "colab_type": "text"
      },
      "source": [
        "текст-введение"
      ]
    },
    {
      "cell_type": "markdown",
      "metadata": {
        "id": "bDoJ-G19AVMY",
        "colab_type": "text"
      },
      "source": [
        "In the first case the system may allow the semantically close types of entities or relations. \n",
        "\n",
        "For example, in the sentence “У меня уже полгода временами болит зуб, но сегодня заболело еще и горло”, the piece “болит зуб” can be denoted as an entity of class “symptom”, “complaint” or “anamnesis”. \n",
        "\n",
        "In this case the extracted class (c) should be counted as correct if it belongs to a set of possible classes C:\n",
        "\n",
        "```Correct(X) = {1 if c(X) ∈ C, 0 otherwise``` <br>\n",
        "```C ={c1,c2,...,cn} , C ∈ N```\n"
      ]
    },
    {
      "cell_type": "code",
      "metadata": {
        "id": "rGd4RNHd-oNg",
        "colab_type": "code",
        "colab": {}
      },
      "source": [
        ""
      ],
      "execution_count": 0,
      "outputs": []
    },
    {
      "cell_type": "markdown",
      "metadata": {
        "id": "4D1XBbmC-pJC",
        "colab_type": "text"
      },
      "source": [
        "If a more sophisticated solution is required, an additional step may be included to calculate label probability. In this case the sum of all class probabilities should result in 1.\n",
        " \n",
        "$\\sum_{i=1}^{n} x_i$\n"
      ]
    }
  ]
}