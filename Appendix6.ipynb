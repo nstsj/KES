{
  "nbformat": 4,
  "nbformat_minor": 0,
  "metadata": {
    "colab": {
      "name": "Appendix6.ipynb",
      "provenance": [],
      "collapsed_sections": [],
      "authorship_tag": "ABX9TyO/xCrCmL5m8JJ1BgBvQbfu",
      "include_colab_link": true
    },
    "kernelspec": {
      "name": "python3",
      "display_name": "Python 3"
    }
  },
  "cells": [
    {
      "cell_type": "markdown",
      "metadata": {
        "id": "view-in-github",
        "colab_type": "text"
      },
      "source": [
        "<a href=\"https://colab.research.google.com/github/nstsj/Master_thesis_additional/blob/master/Appendix6.ipynb\" target=\"_parent\"><img src=\"https://colab.research.google.com/assets/colab-badge.svg\" alt=\"Open In Colab\"/></a>"
      ]
    },
    {
      "cell_type": "markdown",
      "metadata": {
        "id": "gBNy1M3B_lqz",
        "colab_type": "text"
      },
      "source": [
        "**Metrics analysis**\n",
        "\n",
        "As it was stated in the thesis, the traditional set of outcomes (TP, TN, FP, FN) and further design of Precision and Recall may appear insufficient when evaluating knowledge extraction from ill-defined domains.\n",
        "\n",
        "This Appendix contains new suggested metrics, their explanation and example calculations.\n"
      ]
    },
    {
      "cell_type": "markdown",
      "metadata": {
        "id": "0HpkMKnaswBL",
        "colab_type": "text"
      },
      "source": [
        "# Approach \\#1"
      ]
    },
    {
      "cell_type": "markdown",
      "metadata": {
        "id": "bDoJ-G19AVMY",
        "colab_type": "text"
      },
      "source": [
        "The system may allow semantically close types of entities or relations. \n",
        "\n",
        "For example, in the sentence *“У меня уже полгода временами болит зуб, но сегодня заболело еще и горло”*, the piece *“болит зуб”* can be denoted as an entity of class ```“symptom”```, ```“complaint” ```or ```“anamnesis”```. \n",
        "\n",
        "In this case the extracted class $(c)$ should be counted as correct if it belongs to a set of possible classes $C$:\n",
        "\n",
        "$\\begin{equation}\n",
        "  Correct(X) =\n",
        "    \\begin{cases}\n",
        "      1 & \\text{if  $c(X) ∈ C$}\\\\\n",
        "      0 & \\text{$otherwise$}\n",
        "    \\end{cases}       \n",
        "\\end{equation}$\n",
        "\n",
        "$C ={\\{c_1,c_2,...,c_n}\\}$ <br> $C ∈ N$\n"
      ]
    },
    {
      "cell_type": "code",
      "metadata": {
        "id": "rGd4RNHd-oNg",
        "colab_type": "code",
        "colab": {}
      },
      "source": [
        "def correct_entity_class_feeling_bad(x) -> str:\n",
        "    \"\"\"Takes a string as an input. This is a prototype. \n",
        "    Certain realisation depends on inner design of a particular evaluation system.\"\"\"\n",
        "    \n",
        "    try:\n",
        "        allowed = [\"symptom\", \"complaint\", \"anamnesis\"]\n",
        "        if x in allowed:\n",
        "            return x, 1\n",
        "        else: return x,0\n",
        "    except TypeError or ValueError or NameError:\n",
        "        return \"input must be string\""
      ],
      "execution_count": 0,
      "outputs": []
    },
    {
      "cell_type": "code",
      "metadata": {
        "id": "YqpeCULRUVeM",
        "colab_type": "code",
        "outputId": "2c153623-185d-44d7-887d-7c6ef00d91de",
        "colab": {
          "base_uri": "https://localhost:8080/",
          "height": 34
        }
      },
      "source": [
        "correct_entity_class_feeling_bad(\"complaint\")"
      ],
      "execution_count": 0,
      "outputs": [
        {
          "output_type": "execute_result",
          "data": {
            "text/plain": [
              "('complaint', 1)"
            ]
          },
          "metadata": {
            "tags": []
          },
          "execution_count": 73
        }
      ]
    },
    {
      "cell_type": "code",
      "metadata": {
        "id": "R6GwDYzKBx1a",
        "colab_type": "code",
        "outputId": "e16ac8f1-ce9a-4b3b-b28b-aa6776c8e958",
        "colab": {
          "base_uri": "https://localhost:8080/",
          "height": 34
        }
      },
      "source": [
        "correct_entity_class_feeling_bad(\"medical test\")"
      ],
      "execution_count": 0,
      "outputs": [
        {
          "output_type": "execute_result",
          "data": {
            "text/plain": [
              "('medical test', 0)"
            ]
          },
          "metadata": {
            "tags": []
          },
          "execution_count": 77
        }
      ]
    },
    {
      "cell_type": "markdown",
      "metadata": {
        "id": "4D1XBbmC-pJC",
        "colab_type": "text"
      },
      "source": [
        "If a more sophisticated solution is required, an additional step may be included to calculate label probability. In this case the sum of all class probabilities should result in 1.\n",
        " \n",
        "$\\sum_{i=1}^{n} P(c_i) = 1$\n",
        "\n",
        "Suppose, we have a text with 1000 extracted entities in a following proportion:\n",
        " - 200 enities of class ```\"symptom\"```\n",
        " - 300 entities of class ```\"complaint\"```\n",
        " - 120 entities of class ```\"anamesis\"```\n",
        " - 80 entities of class ```\"medical test\"```\n",
        " - 50 entities of class ```\"location\"```\n",
        " - 150 entities of class ```\"actor\"```\n",
        " - 100 entities of class ```\"medical procedure\"```\n",
        " \n",
        " Then we can count probability of correct labelling for cases when entities describe \"unpleasant patient's sensations\""
      ]
    },
    {
      "cell_type": "code",
      "metadata": {
        "id": "6XIWRpfZNHXm",
        "colab_type": "code",
        "colab": {}
      },
      "source": [
        "extracted = {\"symptom\":200,\"complaint\":300,\"anamnesis\":120,  # extracted entities and their freqs as dict\n",
        "             \"medical test\":80,\"location\":50,\"actor\":150,\n",
        "             \"medical procedure\":100}\n",
        "\n",
        "def prob_correct_entity_class(x,y, *args):   #  correct classes as arguments; as many as required\n",
        "    sum1 = extracted.get(x) + extracted.get(y) \n",
        "\n",
        "    if args: #if any additional arguments exist\n",
        "\n",
        "        for i in args: #adding them to count sum of probabilities of correct classes\n",
        "                sum2 = sum1 + extracted.get(i)\n",
        "        return sum2/ sum(extracted.values()) \n",
        "\n",
        "    else: return sum1/sum(extracted.values()) #if only two arguments comprise correct set, opt for this branch\n",
        "            \n",
        "    "
      ],
      "execution_count": 0,
      "outputs": []
    },
    {
      "cell_type": "code",
      "metadata": {
        "id": "tQLM88izYiYI",
        "colab_type": "code",
        "outputId": "721abae7-ea86-45ba-e3d1-d0c911f0f88d",
        "colab": {
          "base_uri": "https://localhost:8080/",
          "height": 34
        }
      },
      "source": [
        "prob_correct_entity_class(\"symptom\", \"complaint\")"
      ],
      "execution_count": 0,
      "outputs": [
        {
          "output_type": "execute_result",
          "data": {
            "text/plain": [
              "0.5"
            ]
          },
          "metadata": {
            "tags": []
          },
          "execution_count": 162
        }
      ]
    },
    {
      "cell_type": "code",
      "metadata": {
        "id": "jOUURpK8gZjv",
        "colab_type": "code",
        "outputId": "187354f8-0790-42b2-b986-4649b9e9a5b3",
        "colab": {
          "base_uri": "https://localhost:8080/",
          "height": 34
        }
      },
      "source": [
        "prob_correct_entity_class(\"symptom\", \"complaint\",\"anamnesis\") "
      ],
      "execution_count": 0,
      "outputs": [
        {
          "output_type": "execute_result",
          "data": {
            "text/plain": [
              "0.62"
            ]
          },
          "metadata": {
            "tags": []
          },
          "execution_count": 163
        }
      ]
    },
    {
      "cell_type": "markdown",
      "metadata": {
        "id": "bkvtx798TPdh",
        "colab_type": "text"
      },
      "source": [
        "#Approach \\#2\n",
        "\n",
        "*focuses on integral parameters for entities and relations that would allow a more neat evaluation of knowledge extraction.*"
      ]
    },
    {
      "cell_type": "markdown",
      "metadata": {
        "id": "GRnPLFGThNpM",
        "colab_type": "text"
      },
      "source": [
        "**“knowledge сompleteness”** <br> \n",
        "Since extracted knowledge is seen as a combination of entities and their relations (one can think of knowledge as a graph), it is important to evaluate which part of classes (for entities and relations) was extracted correctly.\n",
        "\n",
        "$Completeness = \\frac{1}{2}(\\frac{TP_e}{TP_e+FN_e}+\\frac{TP_r}{TP_r+FN_r})$ <br><br> \n",
        "\n",
        "where where $TP_e$ , $FN_e$ is the amount of true-positive and false negative examples for extracted entities, and $TP_r$ , $FN_r$ is the same for extracted relations. <br> \n",
        "$Completeness$ value ranges from $0$ to $1$\n",
        "\n",
        "Suppose, we have a text with 1000 extracted entities and 650 relations. \n",
        "\n",
        "They are divided into groups as: <br>\n",
        "*Entities (1000)*\n",
        "\n",
        "|||*predicted*||   \n",
        "|---|---|---|---|\n",
        "|||pos|neg|\n",
        "|*actual*|pos|$TP_e$ = 600 |$FN_e$ = 150|   \n",
        "||neg|$FP_e$ = 50|$TN_e$ = 200|\n",
        "   \n",
        "\n",
        "*Relations (650)*\n",
        "\n",
        "|||*predicted*||   \n",
        "|---|---|---|---|\n",
        "|||pos|neg|\n",
        "|*actual*|pos|$TP_r$ = 400 |$FN_r$ = 100|   \n",
        "||neg|$FP_r$ = 60|$TN_r$ = 90|"
      ]
    },
    {
      "cell_type": "code",
      "metadata": {
        "id": "jV2PJHk5YXCh",
        "colab_type": "code",
        "colab": {}
      },
      "source": [
        "def completeness(ents, rels): \n",
        "    \"\"\" this function calculates completeness of an extracted knowledge in terms of correctly extracted entities and relations.\n",
        "    Arguments are values for tp, fp, tn, fn as 2 dicts (entities+relations)\"\"\"\n",
        "\n",
        "    entities_rec = ents.get('tp')/ (ents.get('tp') + ents.get('fn'))\n",
        "    relations_rec = rels.get('tp')/ (rels.get('tp')+ rels.get('fn'))\n",
        "\n",
        "    completeness = (entities_rec + relations_rec)/2\n",
        "    return completeness"
      ],
      "execution_count": 0,
      "outputs": []
    },
    {
      "cell_type": "code",
      "metadata": {
        "id": "2YgcUPQbusfD",
        "colab_type": "code",
        "colab": {
          "base_uri": "https://localhost:8080/",
          "height": 34
        },
        "outputId": "235d0197-04a5-407b-a880-a93dc07feb15"
      },
      "source": [
        "completeness (ents = {'tp':600, 'fn':150, 'fp':50, 'tn':200},\n",
        "              rels = {'tp':400, 'fn':100, 'fp':60, 'tn':90})"
      ],
      "execution_count": 187,
      "outputs": [
        {
          "output_type": "execute_result",
          "data": {
            "text/plain": [
              "0.8"
            ]
          },
          "metadata": {
            "tags": []
          },
          "execution_count": 187
        }
      ]
    },
    {
      "cell_type": "markdown",
      "metadata": {
        "id": "499o_W94x_cz",
        "colab_type": "text"
      },
      "source": [
        "The additional metric is **“knowledge similarity”**, which is calculated as graph edit distance between the gold standard and the result of a certain knowledge extraction system.\n",
        "\n",
        "Graph Edit Distance is a set of graph edit operations (vertex and edge deletions, insertions, substitutions) required in order to transform the resulting graph into a golden one."
      ]
    },
    {
      "cell_type": "code",
      "metadata": {
        "id": "hQr5QCKbwLRs",
        "colab_type": "code",
        "colab": {}
      },
      "source": [
        "import networkx as nx\n",
        "import matplotlib.pyplot as plt"
      ],
      "execution_count": 0,
      "outputs": []
    },
    {
      "cell_type": "markdown",
      "metadata": {
        "id": "FQyVa7qNGkJY",
        "colab_type": "text"
      },
      "source": [
        "For instance, we can take the exapmle sentence \"*У меня уже полгода временами болит зуб, но сегодня заболело еще и горло\"*\n",
        " and construct two graphs: one is a gold standard (G) and the second as a result of some knowledge extraction system (H)"
      ]
    },
    {
      "cell_type": "code",
      "metadata": {
        "id": "uGBAGFBu35iJ",
        "colab_type": "code",
        "colab": {}
      },
      "source": [
        "G = nx.DiGraph() #gold standard graph\n",
        "G.add_node(\"actor\")\n",
        "G.add_node(\"anamnesis\")\n",
        "G.add_node(\"symptom\")\n",
        "G.add_edge(\"actor\", \"anamnesis\", r = 'has')\n",
        "G.add_edge(\"actor\", \"symptom\", r = 'has')\n",
        "\n",
        "\n",
        "H = nx.DiGraph() # second graph, simulated as if made by some knowledge extraction system\n",
        "H.add_node(\"actor\")\n",
        "H.add_node(\"anamnesis\")\n",
        "H.add_node(\"symptom\")\n",
        "H.add_node(\"duration1\", id = \"уже полгода\") #additional entities extracted\n",
        "H.add_node(\"duration2\", id = \"вчера\")\n",
        "H.add_edge(\"actor\", \"anamnesis\", r = 'has')\n",
        "H.add_edge(\"actor\", \"symptom\", r = 'has')\n",
        "H.add_edge(\"symptom\", \"duration2\", r = 'has') #additional edges\n",
        "H.add_edge(\"anamnesis\", \"duration1\", r = 'has')\n",
        "\n",
        "knowledge_similarity = nx.algorithms.similarity.graph_edit_distance(G,H)"
      ],
      "execution_count": 0,
      "outputs": []
    },
    {
      "cell_type": "code",
      "metadata": {
        "id": "v5Jnwgz90f-3",
        "colab_type": "code",
        "colab": {
          "base_uri": "https://localhost:8080/",
          "height": 34
        },
        "outputId": "372b26a2-d639-4338-8817-a3029af53844"
      },
      "source": [
        "# let's calculate Graph Edit Distance between them\n",
        "print(\"The difference between Gold standard graph (G) and the result graph(H) is \", knowledge_similarity)"
      ],
      "execution_count": 328,
      "outputs": [
        {
          "output_type": "stream",
          "text": [
            "the difference between Gold standard graph (G) and the result graph(H) is  4.0\n"
          ],
          "name": "stdout"
        }
      ]
    },
    {
      "cell_type": "code",
      "metadata": {
        "id": "9lpqaz4c4EQe",
        "colab_type": "code",
        "colab": {
          "base_uri": "https://localhost:8080/",
          "height": 411
        },
        "outputId": "140a67cb-750f-409b-bc10-8fcae02c47a0"
      },
      "source": [
        "# let's look at them\n",
        "plt.figure(figsize =(7,7))    \n",
        "nx.draw_networkx(G, nodelist=G.nodes(), edgelist=G.edges(), node_color=\"orange\", node_size=600)\n",
        "\n",
        "nx.draw_networkx_edge_labels(G, pos, edge_labels = {('actor','symptom'):'has',\\\n",
        "('actor','anamnesis'):'has'},label_pos=0.5,font_color = \"red\" )\n",
        "\n",
        "plt.show()\n"
      ],
      "execution_count": 325,
      "outputs": [
        {
          "output_type": "display_data",
          "data": {
            "image/png": "[encoded data removed]",
            "text/plain": [
              "<Figure size 504x504 with 1 Axes>"
            ]
          },
          "metadata": {
            "tags": []
          }
        }
      ]
    },
    {
      "cell_type": "code",
      "metadata": {
        "id": "qZTgfMcO5SW5",
        "colab_type": "code",
        "colab": {
          "base_uri": "https://localhost:8080/",
          "height": 411
        },
        "outputId": "73c0bee5-12b5-4d66-c0db-841ded559456"
      },
      "source": [
        "plt.figure(figsize =(7,7))    \n",
        "nx.draw_networkx(H,nodelist=H.nodes(), edgelist=H.edges(), node_color=\"olive\", node_size=600)\n"
      ],
      "execution_count": 326,
      "outputs": [
        {
          "output_type": "display_data",
          "data": {
            "image/png": "[encoded data removed]",
            "text/plain": [
              "<Figure size 504x504 with 1 Axes>"
            ]
          },
          "metadata": {
            "tags": []
          }
        }
      ]
    },
    {
      "cell_type": "markdown",
      "metadata": {
        "id": "HOmdz7wyKFUL",
        "colab_type": "text"
      },
      "source": [
        "the next suggested parameter is **“credibility ratio” for relations**\n",
        "\n",
        "\n",
        "if a relation between the extracted entities exists but seems implausible, it is suggested to take the extracted relation examples (labelled as FN and FP), and to additionally check pmi score between the two entities(x,y) that shared a relation.\n",
        "\n",
        "The higher the pmi score, the more likely the words occur together. Thus it is possible to penalize rare entity pairs.\n",
        "It is easier to use normalized pmi in evaluation, so \n",
        " \n",
        " $npmi = pmi(x;y)/-log_2 p(x = X, y = Y)$<br>\n",
        "\n",
        "  Normalized pmi ranges between [-1,+1] resulting in -1 for a word pair that almost never occurs together; +1 for a strong co-occurrence and 0 for the notions in between.  \n",
        "  Then,<br>\n",
        "   $Credibility = npmi(x,y)$, if $c(x) || c(y) ∈ Mistaken$<br>\n",
        "$FP, FN ∈  Mistaken$ \n",
        "\n",
        "Then, the complete Precision and Recall formulae would look as: <br>\n",
        "$Precision = TP/(TP+Credibility*FP)$ <br>\n",
        "$Recall = TP/ (TP+Credibility*FN)$"
      ]
    },
    {
      "cell_type": "markdown",
      "metadata": {
        "id": "RjuYRzErWnLJ",
        "colab_type": "text"
      },
      "source": [
        "for the previously used corpus, given Credibility = -0,7\n",
        "\n",
        "*Relations (650)*\n",
        "\n",
        "|||*predicted*||   \n",
        "|---|---|---|---|\n",
        "|||pos|neg|\n",
        "|*actual*|pos|$TP_r$ = 400 |$FN_r$ = 100|   \n",
        "||neg|$FP_r$ = 60|$TN_r$ = 90|"
      ]
    },
    {
      "cell_type": "code",
      "metadata": {
        "id": "UUo98SEzC96u",
        "colab_type": "code",
        "colab": {}
      },
      "source": [
        "#  example here\n",
        "rels = {'tp':400, 'fn':100, 'fp':60, 'tn':90}\n",
        "def rel_metrics_credible(credibility):\n",
        "    rel_recall = rels.get('tp')/ rels.get('tp') + rels.get('fn')*credibility\n",
        "    rel_precision = rels.get('tp')/ rels.get('tp') + rels.get('fp')*credibility\n",
        "    #F1 = 2 *((rel_precision* rel_recall) /  rel_recall+ rel_precision)\n",
        "    return rel_recall, rel_precision"
      ],
      "execution_count": 0,
      "outputs": []
    },
    {
      "cell_type": "code",
      "metadata": {
        "id": "mFRlG3xyXalK",
        "colab_type": "code",
        "colab": {
          "base_uri": "https://localhost:8080/",
          "height": 34
        },
        "outputId": "f01e5667-7f53-4752-a09c-ff677d39a700"
      },
      "source": [
        "rel_metrics_credible(credibility= 0.7)\n",
        "\n",
        "\n",
        "# further need to be scaled as for now can take negative values "
      ],
      "execution_count": 344,
      "outputs": [
        {
          "output_type": "execute_result",
          "data": {
            "text/plain": [
              "(71.0, 43.0)"
            ]
          },
          "metadata": {
            "tags": []
          },
          "execution_count": 344
        }
      ]
    },
    {
      "cell_type": "code",
      "metadata": {
        "id": "z_uRuvwnWNMS",
        "colab_type": "code",
        "colab": {}
      },
      "source": [
        "#enother example here (calculate pmi for different pairs)"
      ],
      "execution_count": 0,
      "outputs": []
    },
    {
      "cell_type": "markdown",
      "metadata": {
        "id": "g7BWbr3JMlGi",
        "colab_type": "text"
      },
      "source": [
        "Another suggestion for evaluating knowledge extraction is using **“uncertainty coefficient”**\n",
        "\n",
        "$U(X|Y) = (H(X)- H(X|Y)) / H(X) = I(X,Y)/H(X$ <br>\n",
        "where $H$ is an entropy and $I$ is mutual information between an entity($X$) and relation($Y$) it may have"
      ]
    },
    {
      "cell_type": "code",
      "metadata": {
        "id": "gESLuMHpMkD5",
        "colab_type": "code",
        "colab": {}
      },
      "source": [
        "# add example here"
      ],
      "execution_count": 0,
      "outputs": []
    }
  ]
}